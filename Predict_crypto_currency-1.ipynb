{
 "cells": [
  {
   "cell_type": "code",
   "execution_count": 41,
   "metadata": {},
   "outputs": [],
   "source": [
    "import pandas as pd \n",
    "import numpy as np \n",
    "import matplotlib.pyplot as plt\n",
    "import pandas_datareader as web\n",
    "import datetime as dt \n",
    "import warnings\n",
    "warnings.filterwarnings('ignore')\n",
    "%matplotlib inline\n",
    "\n",
    "from sklearn.preprocessing import MinMaxScaler\n",
    "from tensorflow.keras.layers import Dense, Dropout, LSTM\n",
    "from tensorflow.keras.models import Sequential\n"
   ]
  },
  {
   "cell_type": "code",
   "execution_count": 33,
   "metadata": {},
   "outputs": [],
   "source": [
    "crypto_currency = 'BTC'\n",
    "against_currency = 'USD'\n",
    "\n",
    "start = dt.datetime(2016,1,1)\n",
    "end = dt.datetime.now()"
   ]
  },
  {
   "cell_type": "code",
   "execution_count": 34,
   "metadata": {},
   "outputs": [
    {
     "data": {
      "text/html": [
       "<div>\n",
       "<style scoped>\n",
       "    .dataframe tbody tr th:only-of-type {\n",
       "        vertical-align: middle;\n",
       "    }\n",
       "\n",
       "    .dataframe tbody tr th {\n",
       "        vertical-align: top;\n",
       "    }\n",
       "\n",
       "    .dataframe thead th {\n",
       "        text-align: right;\n",
       "    }\n",
       "</style>\n",
       "<table border=\"1\" class=\"dataframe\">\n",
       "  <thead>\n",
       "    <tr style=\"text-align: right;\">\n",
       "      <th></th>\n",
       "      <th>High</th>\n",
       "      <th>Low</th>\n",
       "      <th>Open</th>\n",
       "      <th>Close</th>\n",
       "      <th>Volume</th>\n",
       "      <th>Adj Close</th>\n",
       "    </tr>\n",
       "    <tr>\n",
       "      <th>Date</th>\n",
       "      <th></th>\n",
       "      <th></th>\n",
       "      <th></th>\n",
       "      <th></th>\n",
       "      <th></th>\n",
       "      <th></th>\n",
       "    </tr>\n",
       "  </thead>\n",
       "  <tbody>\n",
       "    <tr>\n",
       "      <th>2016-01-01</th>\n",
       "      <td>436.246002</td>\n",
       "      <td>427.515015</td>\n",
       "      <td>430.721008</td>\n",
       "      <td>434.334015</td>\n",
       "      <td>36278900</td>\n",
       "      <td>434.334015</td>\n",
       "    </tr>\n",
       "    <tr>\n",
       "      <th>2016-01-02</th>\n",
       "      <td>436.062012</td>\n",
       "      <td>431.869995</td>\n",
       "      <td>434.622009</td>\n",
       "      <td>433.437988</td>\n",
       "      <td>30096600</td>\n",
       "      <td>433.437988</td>\n",
       "    </tr>\n",
       "    <tr>\n",
       "      <th>2016-01-03</th>\n",
       "      <td>433.743011</td>\n",
       "      <td>424.705994</td>\n",
       "      <td>433.578003</td>\n",
       "      <td>430.010986</td>\n",
       "      <td>39633800</td>\n",
       "      <td>430.010986</td>\n",
       "    </tr>\n",
       "    <tr>\n",
       "      <th>2016-01-04</th>\n",
       "      <td>434.516998</td>\n",
       "      <td>429.084015</td>\n",
       "      <td>430.061005</td>\n",
       "      <td>433.091003</td>\n",
       "      <td>38477500</td>\n",
       "      <td>433.091003</td>\n",
       "    </tr>\n",
       "    <tr>\n",
       "      <th>2016-01-05</th>\n",
       "      <td>434.182007</td>\n",
       "      <td>429.675995</td>\n",
       "      <td>433.069000</td>\n",
       "      <td>431.959991</td>\n",
       "      <td>34522600</td>\n",
       "      <td>431.959991</td>\n",
       "    </tr>\n",
       "  </tbody>\n",
       "</table>\n",
       "</div>"
      ],
      "text/plain": [
       "                  High         Low        Open       Close    Volume  \\\n",
       "Date                                                                   \n",
       "2016-01-01  436.246002  427.515015  430.721008  434.334015  36278900   \n",
       "2016-01-02  436.062012  431.869995  434.622009  433.437988  30096600   \n",
       "2016-01-03  433.743011  424.705994  433.578003  430.010986  39633800   \n",
       "2016-01-04  434.516998  429.084015  430.061005  433.091003  38477500   \n",
       "2016-01-05  434.182007  429.675995  433.069000  431.959991  34522600   \n",
       "\n",
       "             Adj Close  \n",
       "Date                    \n",
       "2016-01-01  434.334015  \n",
       "2016-01-02  433.437988  \n",
       "2016-01-03  430.010986  \n",
       "2016-01-04  433.091003  \n",
       "2016-01-05  431.959991  "
      ]
     },
     "execution_count": 34,
     "metadata": {},
     "output_type": "execute_result"
    }
   ],
   "source": [
    "data = web.DataReader(f'{crypto_currency}-{against_currency}', 'yahoo', start, end)\n",
    "data.head()"
   ]
  },
  {
   "cell_type": "code",
   "execution_count": 35,
   "metadata": {},
   "outputs": [
    {
     "data": {
      "text/html": [
       "<div>\n",
       "<style scoped>\n",
       "    .dataframe tbody tr th:only-of-type {\n",
       "        vertical-align: middle;\n",
       "    }\n",
       "\n",
       "    .dataframe tbody tr th {\n",
       "        vertical-align: top;\n",
       "    }\n",
       "\n",
       "    .dataframe thead th {\n",
       "        text-align: right;\n",
       "    }\n",
       "</style>\n",
       "<table border=\"1\" class=\"dataframe\">\n",
       "  <thead>\n",
       "    <tr style=\"text-align: right;\">\n",
       "      <th></th>\n",
       "      <th>High</th>\n",
       "      <th>Low</th>\n",
       "      <th>Open</th>\n",
       "      <th>Close</th>\n",
       "      <th>Volume</th>\n",
       "      <th>Adj Close</th>\n",
       "    </tr>\n",
       "  </thead>\n",
       "  <tbody>\n",
       "    <tr>\n",
       "      <th>count</th>\n",
       "      <td>2329.000000</td>\n",
       "      <td>2329.000000</td>\n",
       "      <td>2329.000000</td>\n",
       "      <td>2329.000000</td>\n",
       "      <td>2.329000e+03</td>\n",
       "      <td>2329.000000</td>\n",
       "    </tr>\n",
       "    <tr>\n",
       "      <th>mean</th>\n",
       "      <td>14989.720507</td>\n",
       "      <td>14180.681517</td>\n",
       "      <td>14606.218644</td>\n",
       "      <td>14617.002668</td>\n",
       "      <td>1.823143e+10</td>\n",
       "      <td>14617.002668</td>\n",
       "    </tr>\n",
       "    <tr>\n",
       "      <th>std</th>\n",
       "      <td>17708.990692</td>\n",
       "      <td>16742.738288</td>\n",
       "      <td>17261.114388</td>\n",
       "      <td>17257.512168</td>\n",
       "      <td>2.057145e+10</td>\n",
       "      <td>17257.512168</td>\n",
       "    </tr>\n",
       "    <tr>\n",
       "      <th>min</th>\n",
       "      <td>374.950012</td>\n",
       "      <td>354.914001</td>\n",
       "      <td>365.072998</td>\n",
       "      <td>364.330994</td>\n",
       "      <td>2.851400e+07</td>\n",
       "      <td>364.330994</td>\n",
       "    </tr>\n",
       "    <tr>\n",
       "      <th>25%</th>\n",
       "      <td>3275.377930</td>\n",
       "      <td>2874.830078</td>\n",
       "      <td>2953.219971</td>\n",
       "      <td>3154.949951</td>\n",
       "      <td>1.489450e+09</td>\n",
       "      <td>3154.949951</td>\n",
       "    </tr>\n",
       "    <tr>\n",
       "      <th>50%</th>\n",
       "      <td>8117.925781</td>\n",
       "      <td>7679.418945</td>\n",
       "      <td>7890.520020</td>\n",
       "      <td>7902.089844</td>\n",
       "      <td>1.275080e+10</td>\n",
       "      <td>7902.089844</td>\n",
       "    </tr>\n",
       "    <tr>\n",
       "      <th>75%</th>\n",
       "      <td>15603.200195</td>\n",
       "      <td>13952.400391</td>\n",
       "      <td>14833.753906</td>\n",
       "      <td>14973.299805</td>\n",
       "      <td>2.989318e+10</td>\n",
       "      <td>14973.299805</td>\n",
       "    </tr>\n",
       "    <tr>\n",
       "      <th>max</th>\n",
       "      <td>68789.625000</td>\n",
       "      <td>66382.062500</td>\n",
       "      <td>67549.734375</td>\n",
       "      <td>67566.828125</td>\n",
       "      <td>3.509679e+11</td>\n",
       "      <td>67566.828125</td>\n",
       "    </tr>\n",
       "  </tbody>\n",
       "</table>\n",
       "</div>"
      ],
      "text/plain": [
       "               High           Low          Open         Close        Volume  \\\n",
       "count   2329.000000   2329.000000   2329.000000   2329.000000  2.329000e+03   \n",
       "mean   14989.720507  14180.681517  14606.218644  14617.002668  1.823143e+10   \n",
       "std    17708.990692  16742.738288  17261.114388  17257.512168  2.057145e+10   \n",
       "min      374.950012    354.914001    365.072998    364.330994  2.851400e+07   \n",
       "25%     3275.377930   2874.830078   2953.219971   3154.949951  1.489450e+09   \n",
       "50%     8117.925781   7679.418945   7890.520020   7902.089844  1.275080e+10   \n",
       "75%    15603.200195  13952.400391  14833.753906  14973.299805  2.989318e+10   \n",
       "max    68789.625000  66382.062500  67549.734375  67566.828125  3.509679e+11   \n",
       "\n",
       "          Adj Close  \n",
       "count   2329.000000  \n",
       "mean   14617.002668  \n",
       "std    17257.512168  \n",
       "min      364.330994  \n",
       "25%     3154.949951  \n",
       "50%     7902.089844  \n",
       "75%    14973.299805  \n",
       "max    67566.828125  "
      ]
     },
     "execution_count": 35,
     "metadata": {},
     "output_type": "execute_result"
    }
   ],
   "source": [
    "data.describe()"
   ]
  },
  {
   "cell_type": "code",
   "execution_count": 36,
   "metadata": {},
   "outputs": [
    {
     "name": "stdout",
     "output_type": "stream",
     "text": [
      "<class 'pandas.core.frame.DataFrame'>\n",
      "DatetimeIndex: 2329 entries, 2016-01-01 to 2022-05-17\n",
      "Data columns (total 6 columns):\n",
      " #   Column     Non-Null Count  Dtype  \n",
      "---  ------     --------------  -----  \n",
      " 0   High       2329 non-null   float64\n",
      " 1   Low        2329 non-null   float64\n",
      " 2   Open       2329 non-null   float64\n",
      " 3   Close      2329 non-null   float64\n",
      " 4   Volume     2329 non-null   int64  \n",
      " 5   Adj Close  2329 non-null   float64\n",
      "dtypes: float64(5), int64(1)\n",
      "memory usage: 127.4 KB\n"
     ]
    }
   ],
   "source": [
    "data.info()"
   ]
  },
  {
   "cell_type": "markdown",
   "metadata": {},
   "source": [
    "### Prepare Data"
   ]
  },
  {
   "cell_type": "code",
   "execution_count": 37,
   "metadata": {},
   "outputs": [],
   "source": [
    "scaler = MinMaxScaler(feature_range=(0,1))\n",
    "scaled_data = scaler.fit_transform(data['Close'].values.reshape(-1,1))"
   ]
  },
  {
   "cell_type": "code",
   "execution_count": 40,
   "metadata": {},
   "outputs": [],
   "source": [
    "\n",
    "prediction_days = 60\n",
    "\n",
    "x_train, y_train =[], []\n",
    "\n",
    "for x in range(prediction_days, len(scaled_data)):\n",
    "    x_train.append(scaled_data[x-prediction_days: x, 0])\n",
    "    y_train.append(scaled_data[x, 0])\n",
    "\n",
    "x_train, y_train = np.array(x_train), np.array(y_train)\n",
    "x_train = np.reshape(x_train, (x_train.shape[0], x_train.shape[1], 1))\n"
   ]
  },
  {
   "cell_type": "markdown",
   "metadata": {},
   "source": [
    "Create Neural Network"
   ]
  },
  {
   "cell_type": "code",
   "execution_count": null,
   "metadata": {},
   "outputs": [],
   "source": [
    "model = Sequential() #Create layers\n",
    "\n",
    "model.add(LSTM(unit=50, return_sequences=True, input_shape(x_train,shape[1],1)))\n",
    "model.add(Dropout(0.2)) # prevent overfiting\n",
    "model.add(LSTM(unit=50, return_sequences=True))\n",
    "model.add(Dropout(0.2))\n",
    "model.add(LSTM(unit=50))\n",
    "model.add(Dropout(0.2))\n",
    "model.add(Dense(units=1)) #one number to indicate the price\n",
    "\n",
    "model.compile(optimize='adam', loss='mean_squared_error')\n",
    "model.fit(x_train, y_train, epochs=25, batch_size=32)\n"
   ]
  },
  {
   "cell_type": "markdown",
   "metadata": {},
   "source": [
    "Creating the testing module\n"
   ]
  },
  {
   "cell_type": "markdown",
   "metadata": {},
   "source": []
  },
  {
   "cell_type": "code",
   "execution_count": 44,
   "metadata": {},
   "outputs": [
    {
     "ename": "NameError",
     "evalue": "name 'model' is not defined",
     "output_type": "error",
     "traceback": [
      "\u001b[1;31m---------------------------------------------------------------------------\u001b[0m",
      "\u001b[1;31mNameError\u001b[0m                                 Traceback (most recent call last)",
      "\u001b[1;32mUntitled-1.ipynb Cell 13'\u001b[0m in \u001b[0;36m<cell line: 21>\u001b[1;34m()\u001b[0m\n\u001b[0;32m     <a href='vscode-notebook-cell:Untitled-1.ipynb?jupyter-notebook#ch0000023untitled?line=17'>18</a>\u001b[0m x_test \u001b[39m=\u001b[39m np\u001b[39m.\u001b[39marray(x_test)\n\u001b[0;32m     <a href='vscode-notebook-cell:Untitled-1.ipynb?jupyter-notebook#ch0000023untitled?line=18'>19</a>\u001b[0m x_test \u001b[39m=\u001b[39m np\u001b[39m.\u001b[39mreshape(x_test, (x_test\u001b[39m.\u001b[39mshape[\u001b[39m0\u001b[39m], x_test\u001b[39m.\u001b[39mshape[\u001b[39m1\u001b[39m], \u001b[39m1\u001b[39m))\n\u001b[1;32m---> <a href='vscode-notebook-cell:Untitled-1.ipynb?jupyter-notebook#ch0000023untitled?line=20'>21</a>\u001b[0m prediction_prices \u001b[39m=\u001b[39m model\u001b[39m.\u001b[39mpredict(x_text)\n\u001b[0;32m     <a href='vscode-notebook-cell:Untitled-1.ipynb?jupyter-notebook#ch0000023untitled?line=21'>22</a>\u001b[0m prediction_prices \u001b[39m=\u001b[39m scaler\u001b[39m.\u001b[39minverse_transform(prediction_prices)\n\u001b[0;32m     <a href='vscode-notebook-cell:Untitled-1.ipynb?jupyter-notebook#ch0000023untitled?line=23'>24</a>\u001b[0m plt\u001b[39m.\u001b[39mplot(actual_prices, color\u001b[39m=\u001b[39m\u001b[39m'\u001b[39m\u001b[39mblack\u001b[39m\u001b[39m'\u001b[39m, label\u001b[39m=\u001b[39m\u001b[39m'\u001b[39m\u001b[39mActual Prices\u001b[39m\u001b[39m'\u001b[39m)\n",
      "\u001b[1;31mNameError\u001b[0m: name 'model' is not defined"
     ]
    }
   ],
   "source": [
    "test_start = dt.datetime(2020,1,1)\n",
    "test_end = dt.datetime.now()\n",
    "\n",
    "test_data = web.DataReader(f'{crypto_currency}-{against_currency}', 'yahoo', test_start, test_end)\n",
    "actual_prices = test_data['Close'].values\n",
    "\n",
    "total_dataset = pd.concat((data['Close'], test_data['Close']), axis=0)\n",
    "\n",
    "model_input = total_dataset[len(total_dataset)-len(test_data)-prediction_days:].values\n",
    "model_input = model_input.reshape(-1,1)\n",
    "model_input = scaler.fit_transform(model_input)\n",
    "\n",
    "x_test = []\n",
    "\n",
    "for z in range(prediction_days, len(model_input)):\n",
    "    x_test.append(model_input[x-prediction_days:x, 0])\n",
    "\n",
    "x_test = np.array(x_test)\n",
    "x_test = np.reshape(x_test, (x_test.shape[0], x_test.shape[1], 1))\n",
    "\n",
    "prediction_prices = model.predict(x_text)\n",
    "prediction_prices = scaler.inverse_transform(prediction_prices)\n",
    "\n",
    "plt.plot(actual_prices, color='black', label='Actual Prices')\n",
    "plt.plot(prediction_price, color='green', label='Predicted Prices')\n",
    "plt.title('f{cryto_currency} price prediction')\n",
    "plt.xlabel('Time')\n",
    "plt.ylabel('Price')\n",
    "plt.legend(loc='upper left')\n",
    "plt.show()\n",
    "\n"
   ]
  },
  {
   "cell_type": "code",
   "execution_count": null,
   "metadata": {},
   "outputs": [],
   "source": []
  }
 ],
 "metadata": {
  "interpreter": {
   "hash": "082ea0d2f1cde71aaec857c8d0f96de330490b3201fbe891beed7932e482c98f"
  },
  "kernelspec": {
   "display_name": "Python 3.9.7 64-bit",
   "language": "python",
   "name": "python3"
  },
  "language_info": {
   "codemirror_mode": {
    "name": "ipython",
    "version": 3
   },
   "file_extension": ".py",
   "mimetype": "text/x-python",
   "name": "python",
   "nbconvert_exporter": "python",
   "pygments_lexer": "ipython3",
   "version": "3.9.7"
  },
  "orig_nbformat": 4
 },
 "nbformat": 4,
 "nbformat_minor": 2
}
